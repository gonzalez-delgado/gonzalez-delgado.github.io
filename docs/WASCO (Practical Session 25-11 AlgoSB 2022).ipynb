{
 "cells": [
  {
   "cell_type": "markdown",
   "id": "1994577d",
   "metadata": {},
   "source": [
    "### AlgoSB 2022: Intrinsic Disorder in Proteins\n",
    "## 25/11 Practical session\n",
    "# WASCO: A Wasserstein-based statistical tool to compare conformational ensembles of intrinsically disordered proteins\n"
   ]
  },
  {
   "cell_type": "markdown",
   "id": "d168a47e",
   "metadata": {},
   "source": [
    "### Get ready to use WASCO\n",
    "\n",
    "WASCO is available at [https://gitlab.laas.fr/moma/WASCO](https://gitlab.laas.fr/moma/WASCO), together with its installation instructions. Once you have installed WASCO, please add this notebook to the folder where the WASCO notebooks are installed. This can be done by opening the WASCO notebooks using the command ``wasco-notebooks``, and then by uploading this file clicking on the \"upload\" button at the top right corner. Then, open the uploaded file.\n",
    "\n",
    "Finally, run the following commands in order to load WASCO functions here."
   ]
  },
  {
   "cell_type": "code",
   "execution_count": null,
   "id": "e3bcabc3",
   "metadata": {},
   "outputs": [],
   "source": [
    "import ipynb\n",
    "from ipynb.fs.full.build_frames import *\n",
    "from ipynb.fs.full.sample_independent_replicas import *\n",
    "from ipynb.fs.full.multiframe_conversion import *\n",
    "from ipynb.fs.full.wmatrix import *\n",
    "from ipynb.fs.full.wvector import *\n",
    "from ipynb.fs.full.graphical_representation import *\n",
    "from ipynb.fs.full.plot_structures import *\n",
    "\n",
    "import os\n",
    "import time\n",
    "import sys\n",
    "import shutil\n",
    "import warnings # Optional\n",
    "#warnings.filterwarnings(\"ignore\") # Optional\n",
    "path_to_notebook = os.path.abspath(os.getcwd())\n",
    "print(path_to_notebook) # Visualize the notebook directory"
   ]
  },
  {
   "cell_type": "markdown",
   "id": "b5a18e13",
   "metadata": {},
   "source": [
    "### This notebook\n",
    "\n",
    "WASCO is implemented in order to compute everything automatically. It gets a pair of ensembles as input, some specifications given by the practitioner, performs all the calculations automatically and returns the output. Here, we <b>split</b> WASCO into several steps to illustrate the corresponding methodology and the influence of some of its functions (account for uncertainty,  definition of overall distance). \n",
    "\n",
    "For each ensemble, the user must provide the path to a folder containing the ensemble data. It must contain:\n",
    "* One .xtc file per replica, together with a .pdb file with topology information **or**,\n",
    "* One multiframe .pdb file per replica **or**,\n",
    "* If ensembles are given as a list of .pdb files (one file per conformation), one **folder** per replica, containing one .pdb file per conformation each.\n",
    "\n",
    "Here, we will reproduce the <b>step-by-step comparison</b> of the pair of ensembles:\n",
    "* Histatin ensemble before and after filtering based on experimental SAXS data.\n",
    "\n",
    "We first specify where the corresponding data is located and the number of threads (cores) to be used."
   ]
  },
  {
   "cell_type": "code",
   "execution_count": null,
   "id": "cdcf853e",
   "metadata": {},
   "outputs": [],
   "source": [
    "ensemble_1_name = 'histatin_pool'\n",
    "ensemble_2_name = 'histatin_filtered'\n",
    "\n",
    "ensemble_1_path = \"/\".join([path_to_notebook,'Examples',ensemble_1_name])\n",
    "ensemble_2_path = \"/\".join([path_to_notebook,'Examples',ensemble_2_name])\n",
    "\n",
    "# Number of available cores\n",
    "print(int(os.cpu_count()))"
   ]
  },
  {
   "cell_type": "code",
   "execution_count": null,
   "id": "39f26194",
   "metadata": {},
   "outputs": [],
   "source": [
    "# Number of cores to use\n",
    "N_cores = 4"
   ]
  },
  {
   "cell_type": "markdown",
   "id": "b896cddd",
   "metadata": {},
   "source": [
    "Finally, we must specify a directory where results must be saved:"
   ]
  },
  {
   "cell_type": "code",
   "execution_count": null,
   "id": "75caf9d4",
   "metadata": {},
   "outputs": [],
   "source": [
    "if not os.path.exists(\"/\".join([os.path.abspath(os.path.join(ensemble_1_path, os.pardir)),\"_\".join(['results',ensemble_1_name,ensemble_2_name])])):\n",
    "    os.mkdir(\"/\".join([os.path.abspath(os.path.join(ensemble_1_path, os.pardir)),\"_\".join(['results',ensemble_1_name,ensemble_2_name])]))\n",
    "\n",
    "results_path = \"/\".join([os.path.abspath(os.path.join(ensemble_1_path, os.pardir)),\"_\".join(['results',ensemble_1_name,ensemble_2_name])])\n",
    "#results_path = # another path"
   ]
  },
  {
   "cell_type": "markdown",
   "id": "eba95537",
   "metadata": {},
   "source": [
    "## 1. Comparison of a pair of replicas\n",
    "We will first compare only the first replicas of each ensemble.\n",
    "### 1.1 Reference frame construction"
   ]
  },
  {
   "cell_type": "markdown",
   "id": "fda6bc85",
   "metadata": {},
   "source": [
    "Let $L$ be the sequence length. For a given replica:\n",
    "    \n",
    "* For each conformation:\n",
    "    * For each sequence position $i = 1,\\ldots,L$:\n",
    "        * We get the values of $(\\phi,\\psi)$ angles,\n",
    "        * We build the reference system at position $i$, using the coordinates of its CA, C and N atoms,\n",
    "        * We compute all the relative position vectors of every other residue at position $j\\neq i$."
   ]
  },
  {
   "cell_type": "code",
   "execution_count": null,
   "id": "0ac92469",
   "metadata": {},
   "outputs": [],
   "source": [
    "# For the first replica of the first ensemble (contains 5000 conformations)\n",
    "define_frames(pdb_folder = \"/\".join([ensemble_1_path,'histatin_brute_run1']),\n",
    "              num_cores = N_cores, prot_name = \"_\".join([ensemble_1_name,'run1']), save_to =  results_path,\n",
    "              name_variable = 'ipynb.fs.full.build_frames')\n",
    "\n",
    "# For the first replica of the second ensemble (contains 1000 conformations)\n",
    "define_frames(pdb_folder = \"/\".join([ensemble_2_path,'histatin_net_run1']),\n",
    "              num_cores = N_cores, prot_name = \"_\".join([ensemble_2_name,'run1']), save_to =  results_path,\n",
    "              name_variable = 'ipynb.fs.full.build_frames')"
   ]
  },
  {
   "cell_type": "markdown",
   "id": "0be0bbc5",
   "metadata": {},
   "source": [
    "For each replica, we obtain a pair of arrays:\n",
    "\n",
    "* The sample of its **global structure**, given as an array of shape [Number of conformations, Number of position pairs, Number of covariates = 11], to which one can access to have conformation/relative position-specific information. \n",
    "\n",
    "* The sample of its **local structure**, given as an array of shape [Number of conformations, Sequence length, Number of covariates = 4]. \n",
    "\n",
    "Each array is saved to a .hdf5 file (recommended). .hdf5 files allow accessing to sub-arrays without loading on memory the entire array. This is needed for future computation of ensemble comparison matrices.\n",
    "\n",
    "### 1.2 Visualize the computed samples\n",
    "\n",
    "We can take a look at the computed global/local structures:\n",
    "\n",
    "* The <b>global structures</b> are probability distributions supported on the three-dimensional euclidean space. Therefore, their samples are <b>point clouds</b> in such space:"
   ]
  },
  {
   "cell_type": "code",
   "execution_count": null,
   "id": "1207a172",
   "metadata": {},
   "outputs": [],
   "source": [
    "plot_global(pos_1 = 3, pos_2 = 20, path_1 = results_path, path_2 = results_path, name_1 = 'histatin_pool_run1', name_2 = 'histatin_filtered_run1')"
   ]
  },
  {
   "cell_type": "markdown",
   "id": "0ec8d72b",
   "metadata": {},
   "source": [
    "* <b>Local structures</b> are probability distributions supported on the two-dimensional flat torus. Their samples are commonly represented through <b>Ramachandran maps</b>. To ease visual comparison, we can plot their kernel density estimates (here, ignoring periodicity):"
   ]
  },
  {
   "cell_type": "code",
   "execution_count": null,
   "id": "68dd02cd",
   "metadata": {},
   "outputs": [],
   "source": [
    "plot_local(pos = 3,path_1 = results_path, path_2 = results_path, name_1 = 'histatin_pool_run1', name_2 = 'histatin_filtered_run1')"
   ]
  },
  {
   "cell_type": "markdown",
   "id": "daca6f10",
   "metadata": {},
   "source": [
    "### 1.3 Comparing global and local structures with Wasserstein distance\n",
    "\n",
    "We need to create subdirectories to save the computed distances (we will need this when adding several replicas to the comparison):"
   ]
  },
  {
   "cell_type": "code",
   "execution_count": null,
   "id": "faf793ca",
   "metadata": {},
   "outputs": [],
   "source": [
    "wmat_path = \"/\".join([results_path,\"_\".join(['wmatrices',ensemble_1_name,ensemble_2_name])])\n",
    "wvec_path = \"/\".join([results_path,\"_\".join(['wvectors',ensemble_1_name,ensemble_2_name])])\n",
    "\n",
    "if not os.path.exists(wmat_path):\n",
    "    os.mkdir(wmat_path)\n",
    "if not os.path.exists(wvec_path):\n",
    "    os.mkdir(wvec_path)"
   ]
  },
  {
   "cell_type": "markdown",
   "id": "860beba5",
   "metadata": {},
   "source": [
    "#### Distances between global structures"
   ]
  },
  {
   "cell_type": "code",
   "execution_count": null,
   "id": "5e5b37ff",
   "metadata": {},
   "outputs": [],
   "source": [
    "wmatrix = w_matrix(prot_1 = \"_\".join([ensemble_1_name,'run1']), prot_2 = \"_\".join([ensemble_2_name,'run1']) , N_centers = 2000, N_cores = N_cores, data_path = results_path, name_variable = 'ipynb.fs.full.wmatrix')\n",
    "\n",
    "# The resulting matrix needs to be saved\n",
    "np.save(\"/\".join([wmat_path,\"_\".join([\"_\".join([ensemble_1_name,'run1']),\"_\".join([ensemble_2_name,'run1']),'wmatrix.npy'])]), wmatrix)"
   ]
  },
  {
   "cell_type": "markdown",
   "id": "3791689c",
   "metadata": {},
   "source": [
    "#### Distances between local structures"
   ]
  },
  {
   "cell_type": "code",
   "execution_count": null,
   "id": "065592e2",
   "metadata": {},
   "outputs": [],
   "source": [
    "wvector = w_vector(prot_1 = \"_\".join([ensemble_1_name,'run1']), prot_2 = \"_\".join([ensemble_2_name,'run1']) , N_centers = 2000, N_cores = N_cores, data_path = results_path, name_variable = 'ipynb.fs.full.wvector')\n",
    "\n",
    "# The resulting vector needs to be saved\n",
    "np.save(\"/\".join([wvec_path,\"_\".join([\"_\".join([ensemble_1_name,'run1']),\"_\".join([ensemble_2_name,'run1']),'wvector.npy'])]), wvector)"
   ]
  },
  {
   "cell_type": "markdown",
   "id": "2bf6a256",
   "metadata": {},
   "source": [
    "### 1.4 Visualizing results through WASCO output"
   ]
  },
  {
   "cell_type": "markdown",
   "id": "55ae3108",
   "metadata": {},
   "source": [
    "Results are returned through a matrix, depicting both scales' results: global distances are included in the lower triangle and local distances along the diagonal. As, for now, no independent replicas are provided, the color scales correspond to the **inter-ensemble distances** between each pair of distributions.\n",
    "\n",
    "The entry $(i,j)$ of the matrix coresponds to the distance between the distributions of the relative positions $i,j$ (one distribution per ensemble). It measures how different is the relative position of residue $i$ with respect to $j$ when changing from one ensemble to the other. The entry $(i,i)$ corresponds to the distance between the $(\\phi, \\psi)$ distributions of the $i$-th residue (one distribution per ensemble). It measures how different is the $i$-th $(\\phi, \\psi)$ distribution when changing from one ensemble to the other."
   ]
  },
  {
   "cell_type": "code",
   "execution_count": null,
   "id": "1f33db42",
   "metadata": {},
   "outputs": [],
   "source": [
    "wmatrix_plot(prot_name_1 = \"_\".join([ensemble_1_name,'run1']), prot_name_2 = \"_\".join([ensemble_2_name,'run1']),\n",
    "             wmatrix_path = wmat_path, \n",
    "             wvector_path = wvec_path)"
   ]
  },
  {
   "cell_type": "markdown",
   "id": "5d6a504b",
   "metadata": {},
   "source": [
    "We can observe how the overall global distance changes if we don't weight the individual distances according to the relative position of residues along the sequence, i.e. multiplying by an increasing function $w_{ij}=w(|i-j|)$ of $|i-j|$, satisfying $w(L-1)=1$ and $w(0)=0$."
   ]
  },
  {
   "cell_type": "code",
   "execution_count": null,
   "id": "6f283382",
   "metadata": {},
   "outputs": [],
   "source": [
    "wmatrix_plot(prot_name_1 = \"_\".join([ensemble_1_name,'run1']), prot_name_2 = \"_\".join([ensemble_2_name,'run1']),\n",
    "             wmatrix_path = wmat_path, \n",
    "             wvector_path = wvec_path,\n",
    "             ponderate = False)"
   ]
  },
  {
   "cell_type": "markdown",
   "id": "72d9fa7f",
   "metadata": {},
   "source": [
    "#### About the output\n",
    "\n",
    "* The ouput shows more important **global differences** for residue pairs far away from each other in the sequence (far from the diagonal), and small differences for closer pairs (close to the diagonal). In particular, the biggest changes appear between relative positions of residues $\\sim 5-7$ with respect to $\\sim 20-23$.\n",
    "\n",
    "We can take a look at the corresponding local structures. However, visual comparison of point clouds (specially when they have different sample sizes) is not very informative. In any case, looking at the samples is a complementary visualization of the structures after analyzing the matrix, which is the main output of the comparison method.\n",
    "\n",
    "For the biggest differences:"
   ]
  },
  {
   "cell_type": "code",
   "execution_count": null,
   "id": "d6a2996b",
   "metadata": {},
   "outputs": [],
   "source": [
    "plot_global(pos_1 = 6, pos_2 = 22, path_1 = results_path, path_2 = results_path, name_1 = 'histatin_pool_run1', name_2 = 'histatin_filtered_run1')"
   ]
  },
  {
   "cell_type": "markdown",
   "id": "9ffece3f",
   "metadata": {},
   "source": [
    "For the smallest differences:"
   ]
  },
  {
   "cell_type": "code",
   "execution_count": null,
   "id": "377e8c3f",
   "metadata": {},
   "outputs": [],
   "source": [
    "plot_global(pos_1 = 6, pos_2 = 7, path_1 = results_path, path_2 = results_path, name_1 = 'histatin_pool_run1', name_2 = 'histatin_filtered_run1')"
   ]
  },
  {
   "cell_type": "markdown",
   "id": "302fdb37",
   "metadata": {},
   "source": [
    "* The output shows more important **local differences** for residues 1, 3 and 19. When can look at the corresponding Ramachandran maps.\n",
    "\n",
    "For the biggest differences:"
   ]
  },
  {
   "cell_type": "code",
   "execution_count": null,
   "id": "4f3e0811",
   "metadata": {},
   "outputs": [],
   "source": [
    "plot_local(pos = 3,path_1 = results_path, path_2 = results_path, name_1 = 'histatin_pool_run1', name_2 = 'histatin_filtered_run1')"
   ]
  },
  {
   "cell_type": "markdown",
   "id": "89795230",
   "metadata": {},
   "source": [
    "   For the smallest differences:"
   ]
  },
  {
   "cell_type": "code",
   "execution_count": null,
   "id": "42ca1a76",
   "metadata": {},
   "outputs": [],
   "source": [
    "plot_local(pos = 9,path_1 = results_path, path_2 = results_path, name_1 = 'histatin_pool_run1', name_2 = 'histatin_filtered_run1')"
   ]
  },
  {
   "cell_type": "markdown",
   "id": "869bdfa6",
   "metadata": {},
   "source": [
    "## 2. Including 2 replicas per ensemble to take uncertainty into account"
   ]
  },
  {
   "cell_type": "markdown",
   "id": "fa5fe824",
   "metadata": {},
   "source": [
    "We first build the reference systems to get samples from global and local structures for the second replica of each ensemble."
   ]
  },
  {
   "cell_type": "code",
   "execution_count": null,
   "id": "56e87e73",
   "metadata": {},
   "outputs": [],
   "source": [
    "# For the second replica of the first ensemble (contains 5000 conformations)\n",
    "define_frames(pdb_folder = \"/\".join([ensemble_1_path,'histatin_brute_run2']),\n",
    "              num_cores = N_cores, prot_name = \"_\".join([ensemble_1_name,'run2']), save_to =  results_path,\n",
    "              name_variable = 'ipynb.fs.full.build_frames')\n",
    "\n",
    "# For the second replica of the second ensemble (contains 1000 conformations)\n",
    "define_frames(pdb_folder = \"/\".join([ensemble_2_path,'histatin_net_run2']),\n",
    "              num_cores = N_cores, prot_name = \"_\".join([ensemble_2_name,'run2']), save_to =  results_path,\n",
    "              name_variable = 'ipynb.fs.full.build_frames')"
   ]
  },
  {
   "cell_type": "markdown",
   "id": "4cc6f7e2",
   "metadata": {},
   "source": [
    "Now, we are able to get a more precise estimate of the **inter-ensemble** distances if we compare the second replicas between them. Then, we will use the average of the inter-ensemble distances for the two replicas as an estimate of the *real* inter-ensemble difference between the pair of ensembles."
   ]
  },
  {
   "cell_type": "markdown",
   "id": "52696a2f",
   "metadata": {},
   "source": [
    "### 2.1 Improving the estimation of the inter-ensemble distances"
   ]
  },
  {
   "cell_type": "markdown",
   "id": "74dfea1b",
   "metadata": {},
   "source": [
    "#### Distances between inter-ensemble global structures (for the second replica)"
   ]
  },
  {
   "cell_type": "code",
   "execution_count": null,
   "id": "7c0bffc4",
   "metadata": {},
   "outputs": [],
   "source": [
    "wmatrix = w_matrix(prot_1 = \"_\".join([ensemble_1_name,'run2']), prot_2 = \"_\".join([ensemble_2_name,'run2']) , N_centers = 2000, N_cores = N_cores, data_path = results_path, name_variable = 'ipynb.fs.full.wmatrix')\n",
    "\n",
    "# The resulting matrix needs to be saved\n",
    "np.save(\"/\".join([wmat_path,\"_\".join([\"_\".join([ensemble_1_name,'run2']),\"_\".join([ensemble_2_name,'run2']),'wmatrix.npy'])]), wmatrix)"
   ]
  },
  {
   "cell_type": "markdown",
   "id": "ad89e081",
   "metadata": {},
   "source": [
    "#### Distances between inter-ensemble local structures (for the second replica)"
   ]
  },
  {
   "cell_type": "code",
   "execution_count": null,
   "id": "d7c9c156",
   "metadata": {},
   "outputs": [],
   "source": [
    "wvector = w_vector(prot_1 = \"_\".join([ensemble_1_name,'run2']), prot_2 = \"_\".join([ensemble_2_name,'run2']) , N_centers = 2000, N_cores = N_cores, data_path = results_path, name_variable = 'ipynb.fs.full.wvector')\n",
    "\n",
    "# The resulting vector needs to be saved\n",
    "np.save(\"/\".join([wvec_path,\"_\".join([\"_\".join([ensemble_1_name,'run2']),\"_\".join([ensemble_2_name,'run2']),'wvector.npy'])]), wvector)"
   ]
  },
  {
   "cell_type": "markdown",
   "id": "edba452c",
   "metadata": {},
   "source": [
    "### 2.2 Estimating uncertainty through intra-ensemble distances"
   ]
  },
  {
   "cell_type": "markdown",
   "id": "bd926377",
   "metadata": {},
   "source": [
    "We compute the intra-ensemble global and local distances to estimate the effect of uncertainty and integrate it to the inter-ensemble comparison. We first create two new directories to store the computed intra-ensemble distances."
   ]
  },
  {
   "cell_type": "code",
   "execution_count": null,
   "id": "eb65d9be",
   "metadata": {},
   "outputs": [],
   "source": [
    "wmat_ind_path = \"/\".join([results_path,\"_\".join(['intra_wmatrices',ensemble_1_name,ensemble_2_name])])\n",
    "wvec_ind_path = \"/\".join([results_path,\"_\".join(['intra_wvectors',ensemble_1_name,ensemble_2_name])])\n",
    "\n",
    "if not os.path.exists(wmat_ind_path):\n",
    "    os.mkdir(wmat_ind_path)\n",
    "if not os.path.exists(wvec_ind_path):\n",
    "    os.mkdir(wvec_ind_path)"
   ]
  },
  {
   "cell_type": "markdown",
   "id": "e6f3d3f8",
   "metadata": {},
   "source": [
    "And we can compute the global and local intra-ensemble distances i.e. between different replicas of the same ensemble:"
   ]
  },
  {
   "cell_type": "markdown",
   "id": "e9521e05",
   "metadata": {},
   "source": [
    "#### Distances between intra-ensemble global structures"
   ]
  },
  {
   "cell_type": "code",
   "execution_count": null,
   "id": "42644a71",
   "metadata": {},
   "outputs": [],
   "source": [
    "wmatrix = w_matrix(prot_1 = \"_\".join([ensemble_1_name,'run1']), prot_2 = \"_\".join([ensemble_1_name,'run2']) , N_centers = 2000, N_cores = N_cores, data_path = results_path, name_variable = 'ipynb.fs.full.wmatrix')\n",
    "\n",
    "# The resulting matrix needs to be saved\n",
    "np.save(\"/\".join([wmat_ind_path,\"_\".join([\"_\".join([ensemble_1_name,'run1']),\"_\".join([ensemble_1_name,'run2']),'wmatrix.npy'])]), wmatrix)"
   ]
  },
  {
   "cell_type": "markdown",
   "id": "47e00547",
   "metadata": {},
   "source": [
    "#### Distances between intra-ensembles local structures"
   ]
  },
  {
   "cell_type": "code",
   "execution_count": null,
   "id": "44811db7",
   "metadata": {},
   "outputs": [],
   "source": [
    "wvector = w_vector(prot_1 = \"_\".join([ensemble_2_name,'run1']), prot_2 = \"_\".join([ensemble_2_name,'run2']) , N_centers = 2000, N_cores = N_cores, data_path = results_path, name_variable = 'ipynb.fs.full.wvector')\n",
    "\n",
    "# The resulting vector needs to be saved\n",
    "np.save(\"/\".join([wvec_ind_path,\"_\".join([\"_\".join([ensemble_2_name,'run1']),\"_\".join([ensemble_2_name,'run2']),'wvector.npy'])]), wvector)"
   ]
  },
  {
   "cell_type": "markdown",
   "id": "7f031131",
   "metadata": {},
   "source": [
    "### 2.3 Visualizing the results corrected for uncertainty"
   ]
  },
  {
   "cell_type": "markdown",
   "id": "b9c81154",
   "metadata": {},
   "source": [
    "The corrected distances are defined as the difference between the average of all inter-ensemble distances and the average of all the intra-ensemble distances:\n",
    "$$\n",
    "\\Delta W=(\\overline{W_{inter}}-\\overline{W_{intra}})_+\n",
    "$$\n",
    "where $(x)_+=x$ if $x>0$ and $(x)_+=0$ otherwise. \n",
    "\n",
    "To represent the results, we choose an interpretable scale which uses the estimated uncertainty as a reference to which compare $\\Delta W$. The scale is defined as\n",
    "$$\n",
    "\\frac{\\Delta W}{\\overline{W_{intra}}},\n",
    "$$\n",
    "which represents the proportion of the intra-ensemble distances that represents $\\Delta W$. For example, if for a given coefficient the score is $2$, that would mean that the inter-ensemble distances exceed the uncertainty by twice the uncertainty, so the corrected distances are relevant when compared to the intra-ensemble ones. A score of $0.1$ would mean that the inter-ensemble distances exceed the uncertainty by \"only\" the $10\\%$ of the uncertainty.\n",
    "\n",
    "Let's plot the output of WASCO when taking the two replicas into account:"
   ]
  },
  {
   "cell_type": "code",
   "execution_count": null,
   "id": "7bbcc4a3",
   "metadata": {},
   "outputs": [],
   "source": [
    "wmatrix_plot(prot_name_1 = \"_\".join([ensemble_1_name,'run1']), prot_name_2 = \"_\".join([ensemble_2_name,'run1']),\n",
    "             wmatrix_path = wmat_path, \n",
    "             wmatrix_ind_folder = wmat_ind_path,\n",
    "             wvector_path = wvec_path,\n",
    "             wvector_ind_folder = wvec_ind_path)"
   ]
  },
  {
   "cell_type": "markdown",
   "id": "c2bd0eb7",
   "metadata": {},
   "source": [
    "As you see, the matrix has significantly changed with respect to the single replicas comparison. The integration of uncertainty removes the effect of intra-ensemble differences propagating from the corner to the diagonal, which no longer appears. Now, we still see some differences in the lower triangle for residue pairs $\\sim 6-8$ with respect to $\\sim 20-23$. These differences must be taken into account, as their corresponding score is higher than $2-3$. \n",
    "\n",
    "However, the biggest differences appear now for residue pairs close to the diagonal. Moreover, we see that *the most important global differences appear for residues whose local differences are very significant*. In other words, the most relevant changes on local structures (residues 1,3,19) propagate through the lower triangle and yield important global changes for the surrounding amino-acids.\n",
    "\n",
    "Finally, we can see the effect of uncertainty and weighting the matrix coefficient when computing the overall score, by modifying the parameters ``overall_uncertainty`` (whether to compute the global score from corrected distances) and ``ponderate`` (whether to multiply matrix coefficients by $w_{ij}$ to compute the global score)."
   ]
  },
  {
   "cell_type": "code",
   "execution_count": null,
   "id": "050e607c",
   "metadata": {},
   "outputs": [],
   "source": [
    "wmatrix_plot(prot_name_1 = \"_\".join([ensemble_1_name,'run1']), prot_name_2 = \"_\".join([ensemble_2_name,'run1']),\n",
    "             wmatrix_path = wmat_path, \n",
    "             wmatrix_ind_folder = wmat_ind_path,\n",
    "             wvector_path = wvec_path,\n",
    "             wvector_ind_folder = wvec_ind_path,\n",
    "             overall_uncertainty = False,\n",
    "             ponderate = False)"
   ]
  },
  {
   "cell_type": "markdown",
   "id": "5d5f882c",
   "metadata": {},
   "source": [
    "## 3. Automatic computation using the \"real\" WASCO\n",
    "\n",
    "If you have some time, you can repeat all the computation but using the [comparison_tool](https://gitlab.laas.fr/moma/WASCO/-/blob/master/wasco/comparison_tool.ipynb) provided by WASCO. The tool takes one directory per ensemble as input, automatically identify the data formats and the several replicas, checks some considerations with the user and proceeds to compute the matrix automatically. It can be done through an interactive version, which only takes directories as inputs and checks the information with the user, or through a non-interactive version (suitable for launching long computations in remote servers), which takes all the required information as input (this requires a small understanding of what is happening by the user). \n",
    "\n",
    "We can take a look at the interactive version, which should return the same output as before:"
   ]
  },
  {
   "cell_type": "code",
   "execution_count": null,
   "id": "d28e7da9",
   "metadata": {},
   "outputs": [],
   "source": [
    "from ipynb.fs.defs.comparison_tool import comparison_tool"
   ]
  },
  {
   "cell_type": "code",
   "execution_count": null,
   "id": "e17f51d0",
   "metadata": {},
   "outputs": [],
   "source": [
    "comparison_tool(ensemble_1_path = ensemble_1_path,\n",
    "                ensemble_1_name = 'histatin_pool', \n",
    "                ensemble_2_path = ensemble_2_path,\n",
    "                ensemble_2_name = 'histatin_filtered', \n",
    "                results_path = results_path)"
   ]
  }
 ],
 "metadata": {
  "kernelspec": {
   "display_name": "Python 3 (ipykernel)",
   "language": "python",
   "name": "python3"
  },
  "language_info": {
   "codemirror_mode": {
    "name": "ipython",
    "version": 3
   },
   "file_extension": ".py",
   "mimetype": "text/x-python",
   "name": "python",
   "nbconvert_exporter": "python",
   "pygments_lexer": "ipython3",
   "version": "3.8.12"
  }
 },
 "nbformat": 4,
 "nbformat_minor": 5
}
